{
  "nbformat": 4,
  "nbformat_minor": 0,
  "metadata": {
    "colab": {
      "provenance": [],
      "authorship_tag": "ABX9TyNZw1+RSsOPglzEognEHpo2",
      "include_colab_link": true
    },
    "kernelspec": {
      "name": "python3",
      "display_name": "Python 3"
    },
    "language_info": {
      "name": "python"
    }
  },
  "cells": [
    {
      "cell_type": "markdown",
      "metadata": {
        "id": "view-in-github",
        "colab_type": "text"
      },
      "source": [
        "<a href=\"https://colab.research.google.com/github/sofa-tsy/HW/blob/Data-Analysis/%D0%B2%D0%B2%D0%B5%D0%B4%D0%B5%D0%BD%D0%B8%D0%B5_numpy_.ipynb\" target=\"_parent\"><img src=\"https://colab.research.google.com/assets/colab-badge.svg\" alt=\"Open In Colab\"/></a>"
      ]
    },
    {
      "cell_type": "code",
      "execution_count": null,
      "metadata": {
        "id": "50AMudG05wQc"
      },
      "outputs": [],
      "source": [
        "import numpy as np \n",
        "a = np.array([1,2,3])\n",
        "print(a.dtype) #переводить массим из одного типа в другой a=a.stype(np.float)\n",
        "b= np.array([4,5,6])\n",
        "print(a)\n",
        "print(np.ones(3))\n",
        "print(np.zeros(2))\n",
        "print(np.random.random(3))\n",
        "print(a+b, a*b, a-b)\n",
        "print(a[0], a[-1])\n",
        "print(a[0:2])\n",
        "print(a[1:])\n",
        "print(a.max(), a.sum(), a.min())\n",
        "print(np.sin(a), 'sin ') # так же с кос можно\n",
        "print(a.mean()) #среднее ариффметичесскиое \n",
        "print(a.prod()) #перемножение всех элементов\n",
        "print(a.std()) #среднеквадратичное отклонение \n",
        "print('корень', np.sqrt(b), 'ВСТРОЕННЫЕ ФУНКЦИИ')\n",
        "print('экспонента',np.exp(b))\n",
        "print('логарифм',np.log(b + 1))\n",
        "print('синус',np.sin(b))\n",
        "print('выведи число е',np.e,'и число пи', np.pi)\n",
        "c = np.array([[1,2,3], [3,5,6],[6,7,8]])\n",
        "print(c)\n",
        "print(np.ones((3,2))) # задаем размер матрицы\n",
        "d = np.array([[2,4], [1,3], [1,6] ])\n",
        "print(a.dot(d))\n",
        "print(d.max(axis=0), 'значение максимальное по столбцам') #если =1, то ищет максимум в строке и все выводит \n",
        "print(d.T) #транспонированная матрица\n",
        "data = np.array([1,2,3,4,5,6])\n",
        "print(data.reshape(2,3))"
      ]
    },
    {
      "cell_type": "code",
      "source": [
        "numbers = [1.2]*100\n",
        "np_numbers = np.array(numbers)\n",
        "#print(np_numbers)\n",
        "#%timeit np_1 = np_numbers**2\n",
        "# можем менять значения элементов массива как с и в list\n",
        "print(a)\n",
        "a[0]=7 # new элемент будет приведен к типу массива:\n",
        "print(a, 'array a')\n",
        "#разных типов (int и float),то все числа будут приведены к более точному типу, т.е. float\n",
        "#строковый тип оказался сильнее\n",
        "\n",
        "#a= np.append(a,8) \n",
        "c = np.array([5,0,8])\n",
        "print(np.hstack((c, b))) #объединение по горизонтали\n",
        "print(np.vstack((c, b))) # по вертикали \n"
      ],
      "metadata": {
        "id": "svbOWMsr8jyX"
      },
      "execution_count": null,
      "outputs": []
    },
    {
      "cell_type": "code",
      "source": [
        "a = np.arange(10)\n",
        "print(a)\n",
        "#np.hsplit(a, [3, 6]) #расщипление массива \n",
        "a = np.delete( a, [5, 7]) #'delete an element'\n",
        "print(a)\n",
        "a = np.insert(a, 2, [0, 0]) #'insert some elements\n",
        "print(a)\n",
        "\n",
        "print('рассмотрим индексацию массива')\n",
        "a = np.linspace(0, 1, 11) #от 0 до 1 , количество создаваемых образцов\n",
        "print(a)\n",
        "print('задать список индексов.')\n",
        "print(a[[2, 3, 5]])"
      ],
      "metadata": {
        "id": "3zmyXCr8KP7v"
      },
      "execution_count": null,
      "outputs": []
    },
    {
      "cell_type": "code",
      "source": [],
      "metadata": {
        "id": "lx7TbQhLPj1A"
      },
      "execution_count": null,
      "outputs": []
    }
  ]
}