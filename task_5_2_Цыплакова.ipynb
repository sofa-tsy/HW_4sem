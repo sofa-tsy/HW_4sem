{
  "cells": [
    {
      "cell_type": "markdown",
      "metadata": {
        "id": "view-in-github",
        "colab_type": "text"
      },
      "source": [
        "<a href=\"https://colab.research.google.com/github/sofa-tsy/HW/blob/Data-Analysis/task_5_2_%D0%A6%D1%8B%D0%BF%D0%BB%D0%B0%D0%BA%D0%BE%D0%B2%D0%B0.ipynb\" target=\"_parent\"><img src=\"https://colab.research.google.com/assets/colab-badge.svg\" alt=\"Open In Colab\"/></a>"
      ]
    },
    {
      "cell_type": "markdown",
      "metadata": {
        "id": "zZDz9c_ucpUM"
      },
      "source": [
        "# Нейронные сети. Архитектуры нейронных сетей"
      ]
    },
    {
      "cell_type": "markdown",
      "metadata": {
        "id": "Y1YiBaVncpUP"
      },
      "source": [
        "## Подготовка данных"
      ]
    },
    {
      "cell_type": "markdown",
      "metadata": {
        "id": "u1iq13tUcpUQ"
      },
      "source": [
        "В этом практическом заданий мы будем решать задачу классификации цифр на датасете `mnist` с помощью полносвязной и сверточной нейронной сети. Для этого мы будем использовать надстройку над `tensorflow`, которая называется `keras`. Для начала обсудим данные. `mnist` датасет состоит из черно-белых изображений цифр размером $28 \\times 28$ пикселей. В данном случае, мы работаем с одним каналом, хотя в случае цветных изображений, общее число каналов равно трем. Загрузим наши данные используя функцию `load_data` объекта `mnist` из модуля `keras.dataset`. Перед выполнением этого задания убедитесь, что ваша версия `tensorflow` >= 1.4."
      ]
    },
    {
      "cell_type": "code",
      "execution_count": 1,
      "metadata": {
        "id": "WRo_OKFVcpUR"
      },
      "outputs": [],
      "source": [
        "import tensorflow as tf\n",
        "\n",
        "(x_train, y_train), (x_test, y_test) = tf.keras.datasets.mnist.load_data()"
      ]
    },
    {
      "cell_type": "markdown",
      "metadata": {
        "id": "8_VSdRDKcpUS"
      },
      "source": [
        "Нормализуйте заруженные данные `x_train` и `x_test`. Для этого следует разделить числовое значение каждого пикселя на $255$. Далее, переведите `y_train` и `y_test` в one-hot представление, используя функцию `tf.keras.utils.to_categorical`. Наше первое задание будет заключатся в реализации полносвязной нейронной сети. Поэтому измените размерность тренировочных и тестовых данных с помощью метода `reshape`.\n",
        "    >> np_vector.shape\n",
        "    >> (28, 28)\n",
        "    >> np_vector = np_vector.reshape(28 * 28)\n",
        "    >> np_vector.shape\n",
        "    >> (784,)"
      ]
    },
    {
      "cell_type": "markdown",
      "metadata": {
        "id": "7NXzWehocpUT"
      },
      "source": [
        "### *РЕШЕНИЕ*"
      ]
    },
    {
      "cell_type": "code",
      "execution_count": 2,
      "metadata": {
        "id": "UUN87ImCcpUT"
      },
      "outputs": [],
      "source": [
        "x_train = x_train.astype('float32') / 255\n",
        "x_test = x_test.astype('float32') / 255\n",
        "y_train = tf.keras.utils.to_categorical(y_train, 10)\n",
        "y_test = tf.keras.utils.to_categorical(y_test, 10)\n",
        "x_train = x_train.reshape(60000, 784)\n",
        "x_test = x_test.reshape(10000, 784)\n"
      ]
    },
    {
      "cell_type": "markdown",
      "metadata": {
        "id": "w5h5Xit0cpUU"
      },
      "source": [
        "## Полносвязная нейронная сеть."
      ]
    },
    {
      "cell_type": "markdown",
      "metadata": {
        "id": "JSxJk4wecpUU"
      },
      "source": [
        "В этой части задания вам предлагается реализовать обычную нейронную сеть с использованием последовательной модели `tf.keras.models.Sequential`. Данная модель позволяет добавлять слои при помощи функции встроенной `add`. Наша нейронная сеть будет состоять всего лишь из одного скрытого слоя с количеством нейроннов равным $256$, функцией активации ReLU и с `input_shape=(784,)`, что соответствует количеству нейронов во входном слое нашей нейронной сети. Количество нейроннов в выходном слое равно количеству классов, в качестве функции активации нужно использовать softmax. Не забудьте вызвать `model.compile` после добавления слоев. Используйте в качестве функции потерь `categorical_crossentropy`, оптимизатор `adadelta` и метрику `accuracy`."
      ]
    },
    {
      "cell_type": "markdown",
      "metadata": {
        "id": "SggLuY5ecpUV"
      },
      "source": [
        "### *РЕШЕНИЕ*"
      ]
    },
    {
      "cell_type": "code",
      "execution_count": 3,
      "metadata": {
        "id": "gqTYOd84cpUV"
      },
      "outputs": [],
      "source": [
        "def neural_network(input_shape):\n",
        "    model = tf.keras.models.Sequential()\n",
        "    model.add(tf.keras.layers.Dense(256, activation='relu', input_shape=input_shape))\n",
        "    model.add(tf.keras.layers.Dense(10, activation='softmax'))\n",
        "    model.compile(loss='categorical_crossentropy', \n",
        "                  optimizer='adadelta', \n",
        "                  metrics=['accuracy'])\n",
        "    return model"
      ]
    },
    {
      "cell_type": "markdown",
      "metadata": {
        "id": "LJgr0aCDcpUW"
      },
      "source": [
        "После этого, создайте модель и загрузите веса нейронной сети из файла `neural_networks.h5`. Какое количество настраиваемых параметров содержится в этой нейронной сети. Запишите это число в качестве первого ответа `answer1` на это задание. Оцените качетво на тестовой выборке и запишите это значение с точностью до трех знаков после запятой в переменную `answer2`."
      ]
    },
    {
      "cell_type": "markdown",
      "metadata": {
        "id": "1iLRqg_7cpUW"
      },
      "source": [
        "### *РЕШЕНИЕ*"
      ]
    },
    {
      "cell_type": "code",
      "execution_count": 5,
      "metadata": {
        "id": "Ntu_DfpbcpUW"
      },
      "outputs": [],
      "source": [
        "model = neural_network((784, ))\n",
        "model.load_weights('neural_networks.h5')\n",
        "answer1 = model.count_params()\n",
        "k, score = model.evaluate(x_test, y_test, verbose=0)\n",
        "answer2 = round(score, 3)"
      ]
    },
    {
      "cell_type": "markdown",
      "metadata": {
        "id": "R8tssE_McpUW"
      },
      "source": [
        "## Сверточная нейронная сеть"
      ]
    },
    {
      "cell_type": "markdown",
      "metadata": {
        "id": "UfZsJSl5cpUX"
      },
      "source": [
        "Далее, вам предлагается реализовать сверточную нейронную сеть. \n",
        "\n",
        "* Размерность входного слоя $(28, 28, 1)$.\n",
        "* Сверточный слой с $32$ каналами, ядро свертки $3 \\times 3$.\n",
        "* Макспулинг слой $(2,2)$.\n",
        "* Сверточный слой с $64$ каналами, ядро свертки $3 \\times 3$.\n",
        "* Макспулинг слой $(2,2)$.\n",
        "* Понижение размерности признаков.\n",
        "* Полносвязный слой с 64 нейронами\n",
        "* Выходной слой с количеством нейронов равному количеству классов.\n",
        "\n",
        "Для этого предлагается использовать следующие классы `Convolution2D`, `MaxPooling2D` и `Flatten` для понижения размерности признаков. Все эти классы как и слой полносвязной нейронной сети `Dense` находятся в `tf.keras.layers`. Используйте ReLU в качестве функции активации во всех слоях, где это потребуется, кроме выходного, в нем по аналогии с прошлым заданием используется softmax. Аналогичная ситуация с функцией `compile` после добавления слоев."
      ]
    },
    {
      "cell_type": "markdown",
      "metadata": {
        "id": "pQATn5sWcpUX"
      },
      "source": [
        "### *РЕШЕНИЕ*"
      ]
    },
    {
      "cell_type": "code",
      "execution_count": 6,
      "metadata": {
        "id": "N-7hYlmZcpUX"
      },
      "outputs": [],
      "source": [
        "def conv_net(input_shape):\n",
        "    model = tf.keras.models.Sequential()\n",
        "    model.add(tf.keras.layers.Convolution2D(32, (3,3), input_shape=input_shape, activation='relu'))\n",
        "    model.add(tf.keras.layers.MaxPooling2D((2,2)))\n",
        "    model.add(tf.keras.layers.Convolution2D(64, (3,3), activation='relu'))\n",
        "    model.add(tf.keras.layers.MaxPooling2D((2,2)))\n",
        "    model.add(tf.keras.layers.Flatten())\n",
        "    model.add(tf.keras.layers.Dense(64, activation='relu'))\n",
        "    model.add(tf.keras.layers.Dense(10, activation='softmax'))\n",
        "    model.compile(loss='categorical_crossentropy', \n",
        "                  optimizer= 'adadelta', \n",
        "                  metrics=['accuracy'])\n",
        "    return model"
      ]
    },
    {
      "cell_type": "markdown",
      "metadata": {
        "id": "oqxAXO1CcpUX"
      },
      "source": [
        "Теперь оцените качество получившейся модели на тестовой выборке. Для этого измените размерность `x_train` и `x_test` на размерность входного слоя. Загрузите веса `conv_net.h5`. Запишите количество параметров этой сверточной нейронной сети в `answer3`. Сравните его с количеством параметром в полносвязной нейронной сети, которую мы реализовали ранее. Оценку качества запишите в `answer4` с точностью до 3 трех знаков после запятой."
      ]
    },
    {
      "cell_type": "markdown",
      "metadata": {
        "id": "irGQgQVwcpUX"
      },
      "source": [
        "### *РЕШЕНИЕ*"
      ]
    },
    {
      "cell_type": "code",
      "execution_count": 7,
      "metadata": {
        "id": "4N_riB-dcpUY"
      },
      "outputs": [],
      "source": [
        "x_train = x_train.reshape(60000, 28, 28, 1)\n",
        "x_test = x_test.reshape(10000, 28, 28, 1)\n",
        "\n",
        "model = conv_net((28, 28, 1))\n",
        "model.load_weights('conv_net.h5')\n",
        "answer3 = model.count_params()\n",
        "k, score = model.evaluate(x_test, y_test, verbose=0)\n",
        "answer4 = round(score, 3)"
      ]
    },
    {
      "cell_type": "markdown",
      "metadata": {
        "id": "eZVsVzC8cpUY"
      },
      "source": [
        "# Строка с ответами"
      ]
    },
    {
      "cell_type": "code",
      "execution_count": 8,
      "metadata": {
        "colab": {
          "base_uri": "https://localhost:8080/"
        },
        "id": "AX_aKE7OcpUY",
        "outputId": "ef4ecc98-5b6b-49ed-99c7-d9437522b42d"
      },
      "outputs": [
        {
          "output_type": "stream",
          "name": "stdout",
          "text": [
            "nn params 203530\n",
            " nn score 0.982\n",
            "cnn params 121930\n",
            "cnn score 0.993\n"
          ]
        }
      ],
      "source": [
        "output = \"nn params {0}\\n nn score {1:.3f}\\ncnn params {2}\\ncnn score {3:.3f}\"\n",
        "print(output.format(answer1, answer2, answer3, answer4))"
      ]
    }
  ],
  "metadata": {
    "kernelspec": {
      "display_name": "Python 3",
      "language": "python",
      "name": "python3"
    },
    "language_info": {
      "codemirror_mode": {
        "name": "ipython",
        "version": 3
      },
      "file_extension": ".py",
      "mimetype": "text/x-python",
      "name": "python",
      "nbconvert_exporter": "python",
      "pygments_lexer": "ipython3",
      "version": "3.6.7"
    },
    "colab": {
      "provenance": [],
      "include_colab_link": true
    }
  },
  "nbformat": 4,
  "nbformat_minor": 0
}