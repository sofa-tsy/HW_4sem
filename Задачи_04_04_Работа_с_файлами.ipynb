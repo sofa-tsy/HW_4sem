{
  "nbformat": 4,
  "nbformat_minor": 0,
  "metadata": {
    "colab": {
      "provenance": [],
      "authorship_tag": "ABX9TyM0TsnOjD5zdbO+fg7SYuT2",
      "include_colab_link": true
    },
    "kernelspec": {
      "name": "python3",
      "display_name": "Python 3"
    },
    "language_info": {
      "name": "python"
    }
  },
  "cells": [
    {
      "cell_type": "markdown",
      "metadata": {
        "id": "view-in-github",
        "colab_type": "text"
      },
      "source": [
        "<a href=\"https://colab.research.google.com/github/sofa-tsy/HW/blob/Data-Analysis/%D0%97%D0%B0%D0%B4%D0%B0%D1%87%D0%B8_04_04_%D0%A0%D0%B0%D0%B1%D0%BE%D1%82%D0%B0_%D1%81_%D1%84%D0%B0%D0%B9%D0%BB%D0%B0%D0%BC%D0%B8.ipynb\" target=\"_parent\"><img src=\"https://colab.research.google.com/assets/colab-badge.svg\" alt=\"Open In Colab\"/></a>"
      ]
    },
    {
      "cell_type": "code",
      "execution_count": null,
      "metadata": {
        "colab": {
          "base_uri": "https://localhost:8080/"
        },
        "id": "iWeZBKekpUoO",
        "outputId": "912bac8f-09b0-42b5-cec5-f2cfb01fdaae"
      },
      "outputs": [
        {
          "output_type": "stream",
          "name": "stdout",
          "text": [
            "Mounted at /content/gdrive\n",
            "2098\n"
          ]
        }
      ],
      "source": [
        "from google.colab import drive\n",
        "drive.mount('/content/gdrive', force_remount=False)\n",
        "path = f\"/content/gdrive/MyDrive/Colab Notebooks/files/\"\n",
        "\n",
        "\n",
        "# 1 подсчитывает общую стоимость заказа.\n",
        "\n",
        "file_name = path + 'prices.txt'\n",
        "f = open(file_name, 'r', encoding='UTF-8')\n",
        "summa = 0\n",
        "for i in f:\n",
        "  i = i.split('\\t')\n",
        "  summa += eval(i[1])*eval(i[2])\n",
        "  # print(i)\n",
        "  # print(summa)\n",
        "\n",
        "f.close()\n",
        "print(summa)"
      ]
    },
    {
      "cell_type": "code",
      "source": [
        "# 2 принимает поисковый запрос и выводит названия текстовых файлов\n",
        "import os\n",
        "find_string = input()\n",
        "answer = []\n",
        "folder = 'D:\\Python\\Textfiles'\n",
        "for name in os.listdir(folder): #возвращает список файлов и каталогов \n",
        "  files = os.path.join(folder,name) #задали полный путь к файлу\n",
        "  with open(files,'r',encoding = 'utf-8') as f:\n",
        "    for line in f:\n",
        "      if find_string in line and name not in answer :\n",
        "          answer.add(name)\n",
        "print(*answer)\n"
      ],
      "metadata": {
        "id": "079Q8pi9wBp_"
      },
      "execution_count": null,
      "outputs": []
    },
    {
      "cell_type": "code",
      "source": [
        "# 3  заменяя все запрещенные слова звездочками * \n",
        "name_file = input() # получает на вход строку с названием текстового файла\n",
        "\n",
        "with open(path+'forbidden_words.txt') as forbidden_words:\n",
        "  st = forbidden_words.read().split()\n",
        "  print(st)\n",
        "\n",
        "with open(path + name_file) as f:\n",
        "  s = f.read() # считали предложение \n",
        "  print(s)\n",
        "  s_low = s.lower() # сделали все буквы маленькими\n",
        "  for world in st:\n",
        "    s_low = s_low.replace(world, '*'*len(world))\n",
        "  [print(k if k == '*' else i, end='') for k, i in zip(s_low,s)]\n",
        "\n"
      ],
      "metadata": {
        "colab": {
          "base_uri": "https://localhost:8080/"
        },
        "id": "0Nm5gaux12Vx",
        "outputId": "66e9ec8e-62a8-420e-88d2-afaaefc7c6e1"
      },
      "execution_count": null,
      "outputs": [
        {
          "output_type": "stream",
          "name": "stdout",
          "text": [
            "task.txt\n",
            "['exam', 'hello', 'five', 'empty', 'is']\n",
            "Hello, world! I pass five exams at university....\n",
            "Miss was happy. He is clever\n",
            "\n",
            "*****, world! I pass **** ****s at university....\n",
            "M**s was happy. He ** clever\n"
          ]
        }
      ]
    },
    {
      "cell_type": "code",
      "source": [
        "# 4\n",
        "with open('data.csv') as file: \n",
        "    a = file.readline().strip().split(',')\n",
        "    b = [line.strip().split(',') for line in file]\n",
        " \n",
        "    def read_csv():\n",
        "        f = {}\n",
        "        p = []\n",
        "        for i in range(len(b)):\n",
        "            for j in range(len(b[i])):\n",
        "                f.update({a[j]: b[i][j]})\n",
        "            p.append(f)\n",
        "            f = {}\n",
        "        return p"
      ],
      "metadata": {
        "id": "RYrXMU6HDjmy"
      },
      "execution_count": null,
      "outputs": []
    },
    {
      "cell_type": "code",
      "source": [
        "#5 статистику по тексту\n",
        "k=0\n",
        "world=0\n",
        "with open(path+'task five.txt','r',encoding='UTF-8') as f:\n",
        "  s = f.read()\n",
        "  print(s)\n",
        "  lines = s.split()\n",
        "  k+=len(lines)\n",
        "with open(path+'task five.txt','r',encoding='UTF-8') as f:\n",
        "  print('Input file contains:')\n",
        "  for line in lines:\n",
        "    world+=len(line.strip('\\n'))\n",
        "  print(world,'letters')\n",
        "  print(k,'worlds')\n",
        "\n",
        "  print(len(f.readlines()),'lines')\n"
      ],
      "metadata": {
        "colab": {
          "base_uri": "https://localhost:8080/"
        },
        "id": "po4jDVLtEEQs",
        "outputId": "c62b06fb-8a79-495f-f85b-053bfa8e9fac"
      },
      "execution_count": null,
      "outputs": [
        {
          "output_type": "stream",
          "name": "stdout",
          "text": [
            "Beautiful is better than ugly.\n",
            "Explicit is better than implicit.\n",
            "Simple is better than complex.\n",
            "Complex is better than complicated.\n",
            "Input file contains:\n",
            "112 letters\n",
            "20 worlds\n",
            "4 lines\n"
          ]
        }
      ]
    }
  ]
}