{
  "cells": [
    {
      "cell_type": "markdown",
      "metadata": {
        "id": "view-in-github",
        "colab_type": "text"
      },
      "source": [
        "<a href=\"https://colab.research.google.com/github/sofa-tsy/HW/blob/NP%2C-PD/%D0%A6%D1%8B%D0%BF%D0%BB%D0%B0%D0%BA%D0%BE%D0%B2%D0%B0_%D0%97%D0%B0%D0%B4%D0%B0%D0%BD%D0%B8%D0%B5_28_03.ipynb\" target=\"_parent\"><img src=\"https://colab.research.google.com/assets/colab-badge.svg\" alt=\"Open In Colab\"/></a>"
      ]
    },
    {
      "cell_type": "code",
      "execution_count": null,
      "metadata": {
        "collapsed": true,
        "id": "KjVdYWyKtm_H"
      },
      "outputs": [],
      "source": [
        "from scipy import stats\n",
        "import matplotlib.pyplot as plt\n",
        "%matplotlib inline\n",
        "import pandas as pd\n",
        "import numpy as np\n",
        "data = pd.read_csv(\"a_b_testing.csv\")\n"
      ]
    },
    {
      "cell_type": "code",
      "source": [
        "data"
      ],
      "metadata": {
        "colab": {
          "base_uri": "https://localhost:8080/",
          "height": 423
        },
        "id": "gHzrkMCi0ai4",
        "outputId": "ec36eb84-5649-4c6f-96c4-f57d03b10b24"
      },
      "execution_count": null,
      "outputs": [
        {
          "output_type": "execute_result",
          "data": {
            "text/plain": [
              "      converted group\n",
              "0             1     A\n",
              "1             0     A\n",
              "2             0     A\n",
              "3             1     B\n",
              "4             1     A\n",
              "...         ...   ...\n",
              "3995          1     A\n",
              "3996          0     A\n",
              "3997          1     B\n",
              "3998          0     B\n",
              "3999          1     A\n",
              "\n",
              "[4000 rows x 2 columns]"
            ],
            "text/html": [
              "\n",
              "  <div id=\"df-bb424e8d-1194-4ff1-a542-e21d392561ae\">\n",
              "    <div class=\"colab-df-container\">\n",
              "      <div>\n",
              "<style scoped>\n",
              "    .dataframe tbody tr th:only-of-type {\n",
              "        vertical-align: middle;\n",
              "    }\n",
              "\n",
              "    .dataframe tbody tr th {\n",
              "        vertical-align: top;\n",
              "    }\n",
              "\n",
              "    .dataframe thead th {\n",
              "        text-align: right;\n",
              "    }\n",
              "</style>\n",
              "<table border=\"1\" class=\"dataframe\">\n",
              "  <thead>\n",
              "    <tr style=\"text-align: right;\">\n",
              "      <th></th>\n",
              "      <th>converted</th>\n",
              "      <th>group</th>\n",
              "    </tr>\n",
              "  </thead>\n",
              "  <tbody>\n",
              "    <tr>\n",
              "      <th>0</th>\n",
              "      <td>1</td>\n",
              "      <td>A</td>\n",
              "    </tr>\n",
              "    <tr>\n",
              "      <th>1</th>\n",
              "      <td>0</td>\n",
              "      <td>A</td>\n",
              "    </tr>\n",
              "    <tr>\n",
              "      <th>2</th>\n",
              "      <td>0</td>\n",
              "      <td>A</td>\n",
              "    </tr>\n",
              "    <tr>\n",
              "      <th>3</th>\n",
              "      <td>1</td>\n",
              "      <td>B</td>\n",
              "    </tr>\n",
              "    <tr>\n",
              "      <th>4</th>\n",
              "      <td>1</td>\n",
              "      <td>A</td>\n",
              "    </tr>\n",
              "    <tr>\n",
              "      <th>...</th>\n",
              "      <td>...</td>\n",
              "      <td>...</td>\n",
              "    </tr>\n",
              "    <tr>\n",
              "      <th>3995</th>\n",
              "      <td>1</td>\n",
              "      <td>A</td>\n",
              "    </tr>\n",
              "    <tr>\n",
              "      <th>3996</th>\n",
              "      <td>0</td>\n",
              "      <td>A</td>\n",
              "    </tr>\n",
              "    <tr>\n",
              "      <th>3997</th>\n",
              "      <td>1</td>\n",
              "      <td>B</td>\n",
              "    </tr>\n",
              "    <tr>\n",
              "      <th>3998</th>\n",
              "      <td>0</td>\n",
              "      <td>B</td>\n",
              "    </tr>\n",
              "    <tr>\n",
              "      <th>3999</th>\n",
              "      <td>1</td>\n",
              "      <td>A</td>\n",
              "    </tr>\n",
              "  </tbody>\n",
              "</table>\n",
              "<p>4000 rows × 2 columns</p>\n",
              "</div>\n",
              "      <button class=\"colab-df-convert\" onclick=\"convertToInteractive('df-bb424e8d-1194-4ff1-a542-e21d392561ae')\"\n",
              "              title=\"Convert this dataframe to an interactive table.\"\n",
              "              style=\"display:none;\">\n",
              "        \n",
              "  <svg xmlns=\"http://www.w3.org/2000/svg\" height=\"24px\"viewBox=\"0 0 24 24\"\n",
              "       width=\"24px\">\n",
              "    <path d=\"M0 0h24v24H0V0z\" fill=\"none\"/>\n",
              "    <path d=\"M18.56 5.44l.94 2.06.94-2.06 2.06-.94-2.06-.94-.94-2.06-.94 2.06-2.06.94zm-11 1L8.5 8.5l.94-2.06 2.06-.94-2.06-.94L8.5 2.5l-.94 2.06-2.06.94zm10 10l.94 2.06.94-2.06 2.06-.94-2.06-.94-.94-2.06-.94 2.06-2.06.94z\"/><path d=\"M17.41 7.96l-1.37-1.37c-.4-.4-.92-.59-1.43-.59-.52 0-1.04.2-1.43.59L10.3 9.45l-7.72 7.72c-.78.78-.78 2.05 0 2.83L4 21.41c.39.39.9.59 1.41.59.51 0 1.02-.2 1.41-.59l7.78-7.78 2.81-2.81c.8-.78.8-2.07 0-2.86zM5.41 20L4 18.59l7.72-7.72 1.47 1.35L5.41 20z\"/>\n",
              "  </svg>\n",
              "      </button>\n",
              "      \n",
              "  <style>\n",
              "    .colab-df-container {\n",
              "      display:flex;\n",
              "      flex-wrap:wrap;\n",
              "      gap: 12px;\n",
              "    }\n",
              "\n",
              "    .colab-df-convert {\n",
              "      background-color: #E8F0FE;\n",
              "      border: none;\n",
              "      border-radius: 50%;\n",
              "      cursor: pointer;\n",
              "      display: none;\n",
              "      fill: #1967D2;\n",
              "      height: 32px;\n",
              "      padding: 0 0 0 0;\n",
              "      width: 32px;\n",
              "    }\n",
              "\n",
              "    .colab-df-convert:hover {\n",
              "      background-color: #E2EBFA;\n",
              "      box-shadow: 0px 1px 2px rgba(60, 64, 67, 0.3), 0px 1px 3px 1px rgba(60, 64, 67, 0.15);\n",
              "      fill: #174EA6;\n",
              "    }\n",
              "\n",
              "    [theme=dark] .colab-df-convert {\n",
              "      background-color: #3B4455;\n",
              "      fill: #D2E3FC;\n",
              "    }\n",
              "\n",
              "    [theme=dark] .colab-df-convert:hover {\n",
              "      background-color: #434B5C;\n",
              "      box-shadow: 0px 1px 3px 1px rgba(0, 0, 0, 0.15);\n",
              "      filter: drop-shadow(0px 1px 2px rgba(0, 0, 0, 0.3));\n",
              "      fill: #FFFFFF;\n",
              "    }\n",
              "  </style>\n",
              "\n",
              "      <script>\n",
              "        const buttonEl =\n",
              "          document.querySelector('#df-bb424e8d-1194-4ff1-a542-e21d392561ae button.colab-df-convert');\n",
              "        buttonEl.style.display =\n",
              "          google.colab.kernel.accessAllowed ? 'block' : 'none';\n",
              "\n",
              "        async function convertToInteractive(key) {\n",
              "          const element = document.querySelector('#df-bb424e8d-1194-4ff1-a542-e21d392561ae');\n",
              "          const dataTable =\n",
              "            await google.colab.kernel.invokeFunction('convertToInteractive',\n",
              "                                                     [key], {});\n",
              "          if (!dataTable) return;\n",
              "\n",
              "          const docLinkHtml = 'Like what you see? Visit the ' +\n",
              "            '<a target=\"_blank\" href=https://colab.research.google.com/notebooks/data_table.ipynb>data table notebook</a>'\n",
              "            + ' to learn more about interactive tables.';\n",
              "          element.innerHTML = '';\n",
              "          dataTable['output_type'] = 'display_data';\n",
              "          await google.colab.output.renderOutput(dataTable, element);\n",
              "          const docLink = document.createElement('div');\n",
              "          docLink.innerHTML = docLinkHtml;\n",
              "          element.appendChild(docLink);\n",
              "        }\n",
              "      </script>\n",
              "    </div>\n",
              "  </div>\n",
              "  "
            ]
          },
          "metadata": {},
          "execution_count": 9
        }
      ]
    },
    {
      "cell_type": "markdown",
      "metadata": {
        "id": "ShJsh-Qptm_J"
      },
      "source": [
        "### A/B тестирование"
      ]
    },
    {
      "cell_type": "markdown",
      "metadata": {
        "id": "h1XL40WNtm_S"
      },
      "source": [
        "В этом задании вы познакомитесь с A/B тестированием и примените полученные знания по статистике. \n",
        "\n",
        "Рассмотрим A/B тестирование на примере сайта. У сайта есть два дизайна - старый и новый, и мы хотим оценить, насколько новый дизайн лучше старого. Для этого пользователи сайта случайным образом разделяются на контрольную и тестовую группы. Контрольной группе показывается старая версия сайта, тестовой группе - измененная версия. Оценить изменение можно несколькими способами, самый простой - оценить конверсию. Конверсия - доля пользователей, совершивших заранее определенное действие(например подписка, нажатие на кнопку, заполнение формы)."
      ]
    },
    {
      "cell_type": "markdown",
      "metadata": {
        "id": "G60PepW2tm_T"
      },
      "source": [
        "### Описание данных"
      ]
    },
    {
      "cell_type": "markdown",
      "metadata": {
        "id": "DWzrDRU-tm_T"
      },
      "source": [
        "Для начала нужно загрузить данные из файла `a_b_testing.csv` при помощи функции `read_csv` из библиотеки `pandas`. В данном случае 1 - была совершена подписка на сайт, 0 - подписки не было. A - контрольная группа, B - тестовая группа."
      ]
    },
    {
      "cell_type": "markdown",
      "metadata": {
        "id": "v4wtKHLjtm_T"
      },
      "source": [
        "Далее нужно выполнить следующие пункты, описание выходного формата содержится внутри каждого задания."
      ]
    },
    {
      "cell_type": "markdown",
      "metadata": {
        "id": "74QBUmCUtm_T"
      },
      "source": [
        "### Доверительный интервал"
      ]
    },
    {
      "cell_type": "markdown",
      "metadata": {
        "id": "oI6sFFyjtm_T"
      },
      "source": [
        "В видео про доверительный интервал мы рассмотрели, как можно аппроксимировать биномиальное распределение нормальным. В некоторых случаях параметры нормального распределения можно вывести математически и ниже мы рассмотрим как."
      ]
    },
    {
      "cell_type": "markdown",
      "metadata": {
        "id": "aAtCfpQctm_U"
      },
      "source": [
        "Представим количество пользователей как случайную величину из биномиального распределения с параметрами  `n`  - количество пользователей и `p` - вероятность конверсии или как сумму  `n`  независимых бросаний монетки. Определим следующую случайную величину:\n",
        "\n",
        "$$Y = X_{1} + X_{2} + \\dots + X_{n} , \\, $$\n",
        "где случайная величина $X_{i}$ имеет распределение Бернулли. Для случайной величины $Y$ математическое ожидание и дисперсия равны:\n",
        "\n",
        "$$\\mu = np, \\, \\sigma^{2} = np\\cdot(1 - p)$$\n",
        "\n",
        "Далее применяя центральную предельную теорему(случайные величины $X_{i}$ распределены независимо и размер выборки большой), получаем что \n",
        "\n",
        "$$Y \\sim \\mathcal{N}(np \\, np\\cdot(1 - p))\\$$\n",
        "\n",
        "Мы перешли от биномиального распределения к нормальному. Следующий шаг - стандартизация нормального распределения:\n",
        "\n",
        "$$Z = \\frac{Y - np}{\\sqrt{np\\cdot(1-p)}} \\sim \\mathcal{N}(0, \\, 1) $$ \n",
        "\n",
        "Преобразуем выражение выше:\n",
        "\n",
        "$$Z = \\frac{Y - np}{\\sqrt{np\\cdot(1-p)}} = \\frac{\\frac{Y}{n} - p}{\\sqrt{\\frac{p(1-p)}{n}}} \\sim \\mathcal{N}(0, \\, 1) $$"
      ]
    },
    {
      "cell_type": "markdown",
      "metadata": {
        "id": "mpVtnQFKtm_U"
      },
      "source": [
        "Так как среднее значение по выборке - это наблюдаемый процент конверсии, то доверительный интервал будет выглядеть следующим образом:"
      ]
    },
    {
      "cell_type": "markdown",
      "metadata": {
        "id": "vC1LCKXUtm_U"
      },
      "source": [
        "$${P}\\left(p - z_{1-\\frac{\\alpha}{2}} \\sqrt{\\frac{p(1-p)}{n}} \\le \\mu \\le p + z_{1-\\frac{\\alpha}{2}}\\sqrt{\\frac{p(1-p)}{n}}\\right) = 1-\\alpha$$"
      ]
    },
    {
      "cell_type": "markdown",
      "metadata": {
        "id": "Zk22rPEutm_U"
      },
      "source": [
        "### ЗАДАНИЕ"
      ]
    },
    {
      "cell_type": "markdown",
      "metadata": {
        "id": "kdeLLOantm_V"
      },
      "source": [
        "Найдите доверительный интервал для средней конверсии пользователей из контрольной выборки с уровнем значимости 95%. Округлите левую и правую границу с точностью до двух знаков после запятой. Запишите значения левой и правой границ через запятую, сохраняя приведенный порядок, в переменную `answer1`, которая будет являтся строкой."
      ]
    },
    {
      "cell_type": "code",
      "execution_count": null,
      "metadata": {
        "collapsed": true,
        "colab": {
          "base_uri": "https://localhost:8080/"
        },
        "id": "qr5_am1Qtm_V",
        "outputId": "54511761-4c09-4065-d069-1a35ff04c953"
      },
      "outputs": [
        {
          "output_type": "stream",
          "name": "stdout",
          "text": [
            "0.41 0.44\n"
          ]
        }
      ],
      "source": [
        "import scipy.stats as st\n",
        "import numpy as np\n",
        "answer1 = st.t.interval(confidence=0.95,df=len(data['converted'])-1, loc=np.mean(data['converted']), scale=st.sem(data['converted']))\n",
        "answer1=list(answer1)\n",
        "\n",
        "answer1 = ['%.2f' % elem for elem in answer1]\n",
        "print(*answer1)\n",
        "\n",
        "\n"
      ]
    },
    {
      "cell_type": "markdown",
      "metadata": {
        "id": "XYZ8P0cHtm_V"
      },
      "source": [
        "### Задача A/B тестирования"
      ]
    },
    {
      "cell_type": "markdown",
      "metadata": {
        "id": "OVPoQkiCtm_V"
      },
      "source": [
        "Рассмотрим независимые выборки $X$ и $Y$ для которых есть $\\mu_x$ и $\\mu_y$, определяющие среднее значение распределения.\n",
        "\n",
        "Рассматривается следующая гипотеза:\n",
        "$$\n",
        "H_0: \\mu_x = \\mu_y\n",
        "$$\n",
        "против альтернативы:\n",
        "\n",
        "$$\n",
        "H_1: \\mu_x \\ne \\mu_y.\n",
        "$$"
      ]
    },
    {
      "cell_type": "markdown",
      "metadata": {
        "id": "OjkG5ba_tm_V"
      },
      "source": [
        "Если гипотеза $H_0$ отвергается, то показатель действительно поменялся."
      ]
    },
    {
      "cell_type": "markdown",
      "metadata": {
        "id": "YlU19AwZtm_V"
      },
      "source": [
        "Также можно тест можно записать и другим способом:\n",
        "$$\n",
        "H_0: \\mu_x \\le \\mu_y\n",
        "$$\n",
        "\n",
        "против альтернативы:\n",
        "\n",
        "$$\n",
        "H_1: \\mu_x > \\mu_y\n",
        "$$"
      ]
    },
    {
      "cell_type": "markdown",
      "metadata": {
        "id": "BYaS1Hsatm_V"
      },
      "source": [
        "### Задание по статистике Стьюдента "
      ]
    },
    {
      "cell_type": "markdown",
      "metadata": {
        "id": "9zLBaLjbtm_W"
      },
      "source": [
        "Найдите значение статистики Стьюдента в предположении независимости выборок по формуле:"
      ]
    },
    {
      "cell_type": "markdown",
      "metadata": {
        "id": "kNA7vYyPtm_W"
      },
      "source": [
        "$$\n",
        "T(X, Y) = \\frac{\\bar{X} - \\bar{Y}}{\\sqrt{\\frac{s_x^2}{n} + \\frac{s_y^2}{m}}}\n",
        "$$\n",
        "\n",
        "где `n` - размер контрольной выборки, `m`  - размер тестовой выборки."
      ]
    },
    {
      "cell_type": "markdown",
      "metadata": {
        "id": "EJMQ7bsetm_W"
      },
      "source": [
        "Ответ запишите в переменную `answer2` с точностью до двух знаков после запятой."
      ]
    },
    {
      "cell_type": "markdown",
      "metadata": {
        "id": "Je85ywh3tm_W"
      },
      "source": [
        "### РЕШЕНИЕ"
      ]
    },
    {
      "cell_type": "code",
      "execution_count": 64,
      "metadata": {
        "id": "yP0eL3vjtm_W",
        "colab": {
          "base_uri": "https://localhost:8080/"
        },
        "outputId": "954d6432-80f0-49b5-b078-51406d4bc862"
      },
      "outputs": [
        {
          "output_type": "stream",
          "name": "stdout",
          "text": [
            "0.010907606790137522\n",
            "0.01119837436028236\n",
            "206113.83\n"
          ]
        }
      ],
      "source": [
        "#НЕ ЗНАЮ, КАКОЙ ИЗ НИЖНИХ 2 ВАРИАНТОВ ПРАВИЛЬНЫЙ. В ЛЮБОМ СЛУЧАЕ ОН НЕ СОВПАДАЕТ СО ЗНАЧЕНИЕМ В ANSWER3\n",
        "y = np.sum(data[data['group']=='B']['converted'])/len(data[data['group']=='B']) # точно правильно посчитано\n",
        "x = np.sum(data[data['group']=='A']['converted'])/len(data[data['group']=='A'])\n",
        "delta = abs(x-y)\n",
        "# print(delta)\n",
        "# print(y)\n",
        "# print(x)\n",
        "sx = st.sem(data[data['group']=='A']['converted'])\n",
        "print(sx)\n",
        "sy = st.sem(data[data['group']=='B']['converted'])\n",
        "# print(sy.dtype)\n",
        "print(sy)\n",
        "\n",
        "answer2 = delta/(sx**2/len(data[data['group']=='A'])+ sy**2/len(data[data['group']=='B']))\n",
        "print(round(answer2,2))"
      ]
    },
    {
      "cell_type": "code",
      "source": [
        "y = np.sum(data[data['group']=='B']['converted'])/len(data[data['group']=='B']) \n",
        "x = np.sum(data[data['group']=='A']['converted'])/len(data[data['group']=='A'])\n",
        "print('x ', x,'y ', y)\n",
        "# print('длина А ',len(data[data['group']=='A']))\n",
        "# print('длина B ',len(data[data['group']=='B']))\n",
        "delta = abs(x-y)\n",
        "sx = np.std(data[data['group']=='A']['converted'])\n",
        "sy = np.std(data[data['group']=='B']['converted'])\n",
        "print('sx ', sx,'sy ', sy )\n",
        "answer2 = delta/(sx**2/len(data[data['group']=='A'])+ sy**2/len(data[data['group']=='B']))\n",
        "print(round(answer2,2))\n",
        "\n"
      ],
      "metadata": {
        "colab": {
          "base_uri": "https://localhost:8080/"
        },
        "id": "GWWBTxcZUqqs",
        "outputId": "c89b5464-9a80-49f5-d801-ff2d311d9321"
      },
      "execution_count": 69,
      "outputs": [
        {
          "output_type": "stream",
          "name": "stdout",
          "text": [
            "x  0.4118802160039273 y  0.4370860927152318\n",
            "длина А  2037\n",
            "длина B  1963\n",
            "sx  0.4921736519446013 sy  0.4960260479754703\n",
            "103.19\n"
          ]
        }
      ]
    },
    {
      "cell_type": "markdown",
      "metadata": {
        "id": "unmWE7Mftm_W"
      },
      "source": [
        "### Статистика Стьюдента из библиотеки Scipy"
      ]
    },
    {
      "cell_type": "markdown",
      "metadata": {
        "id": "4mtOOLTitm_W"
      },
      "source": [
        "Найдите p-value для статистики Стьюдента, используя функцию `stats.ttest_ind`."
      ]
    },
    {
      "cell_type": "markdown",
      "metadata": {
        "id": "C5DQiaUXtm_W"
      },
      "source": [
        "### РЕШЕНИЕ"
      ]
    },
    {
      "cell_type": "code",
      "execution_count": 62,
      "metadata": {
        "collapsed": true,
        "id": "y3xK0XN7tm_W",
        "colab": {
          "base_uri": "https://localhost:8080/"
        },
        "outputId": "e57b4630-a2f4-4ce1-cc39-4f766b8bc2df"
      },
      "outputs": [
        {
          "output_type": "stream",
          "name": "stdout",
          "text": [
            "Ttest_indResult(statistic=-1.6126205013707797, pvalue=0.10690590820177126)\n"
          ]
        }
      ],
      "source": [
        "from scipy.stats import ttest_ind\n",
        "answer3 = stats.ttest_ind(data[data['group']=='A']['converted'],data[data['group']=='B']['converted'])\n",
        "print(answer3)"
      ]
    },
    {
      "cell_type": "markdown",
      "metadata": {
        "id": "x6l1L1FLtm_W"
      },
      "source": [
        "Дополнительная проверка: значение статистики Стьюдента, посчитанная двумя способами, должны совпадать."
      ]
    },
    {
      "cell_type": "markdown",
      "metadata": {
        "id": "p5qbatsatm_X"
      },
      "source": [
        "Ответ запишите в переменную `answer3` с точностью до 2 знака после запятой"
      ]
    }
  ],
  "metadata": {
    "kernelspec": {
      "display_name": "Python 3",
      "language": "python",
      "name": "python3"
    },
    "language_info": {
      "codemirror_mode": {
        "name": "ipython",
        "version": 3
      },
      "file_extension": ".py",
      "mimetype": "text/x-python",
      "name": "python",
      "nbconvert_exporter": "python",
      "pygments_lexer": "ipython3",
      "version": "3.7.3"
    },
    "toc": {
      "nav_menu": {},
      "number_sections": true,
      "sideBar": true,
      "skip_h1_title": false,
      "toc_cell": false,
      "toc_position": {},
      "toc_section_display": "block",
      "toc_window_display": false
    },
    "varInspector": {
      "cols": {
        "lenName": 16,
        "lenType": 16,
        "lenVar": 40
      },
      "kernels_config": {
        "python": {
          "delete_cmd_postfix": "",
          "delete_cmd_prefix": "del ",
          "library": "var_list.py",
          "varRefreshCmd": "print(var_dic_list())"
        },
        "r": {
          "delete_cmd_postfix": ") ",
          "delete_cmd_prefix": "rm(",
          "library": "var_list.r",
          "varRefreshCmd": "cat(var_dic_list()) "
        }
      },
      "position": {
        "height": "349px",
        "left": "1068px",
        "right": "20px",
        "top": "120px",
        "width": "352px"
      },
      "types_to_exclude": [
        "module",
        "function",
        "builtin_function_or_method",
        "instance",
        "_Feature"
      ],
      "window_display": false
    },
    "colab": {
      "provenance": [],
      "include_colab_link": true
    }
  },
  "nbformat": 4,
  "nbformat_minor": 0
}