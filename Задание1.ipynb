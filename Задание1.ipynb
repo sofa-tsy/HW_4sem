{
  "nbformat": 4,
  "nbformat_minor": 0,
  "metadata": {
    "colab": {
      "provenance": [],
      "authorship_tag": "ABX9TyPSG0VGg39g6Une/P07AyQG",
      "include_colab_link": true
    },
    "kernelspec": {
      "name": "python3",
      "display_name": "Python 3"
    },
    "language_info": {
      "name": "python"
    }
  },
  "cells": [
    {
      "cell_type": "markdown",
      "metadata": {
        "id": "view-in-github",
        "colab_type": "text"
      },
      "source": [
        "<a href=\"https://colab.research.google.com/github/sofa-tsy/HW/blob/NP%2C-PD/Untitled1.ipynb\" target=\"_parent\"><img src=\"https://colab.research.google.com/assets/colab-badge.svg\" alt=\"Open In Colab\"/></a>"
      ]
    },
    {
      "cell_type": "code",
      "execution_count": null,
      "metadata": {
        "id": "9aiEsRQK524Y"
      },
      "outputs": [],
      "source": [
        "import numpy as np\n",
        "import pandas as pd\n",
        "import matplotlib.pyplot as plt\n",
        "\n",
        "country = ['Великобритания', 'Кипр', 'Германия', 'Индия', 'Россия', 'Кения',\n",
        "           'Португалия', 'Япония', 'Тайланд', 'Казахстан']\n",
        "left = [True, True, False, True, False, True, False, True, True, False]\n",
        "car = [469, 595, 555, 15, 309, 21, 470, 591, 165, 214]\n",
        "\n",
        "dic = {}\n",
        "dic = {'country': country, 'drives_left': left, 'cars_per_1000' : car}\n",
        "#print(dic)\n",
        "\n",
        "s = pd.DataFrame(dic)\n",
        "print(s)\n"
      ]
    },
    {
      "cell_type": "code",
      "source": [
        "code = ['GB', 'CY', 'DE', 'IN', 'RU', 'KE', 'PT', 'JP', 'TH', 'KZ']\n",
        "\n",
        "s_new = pd.DataFrame(dic, code)\n",
        "print(s_new)"
      ],
      "metadata": {
        "id": "rMYF9SzWijHg"
      },
      "execution_count": null,
      "outputs": []
    },
    {
      "cell_type": "code",
      "source": [
        "print('Вывести первые три строчки:')\n",
        "print(s_new[0:3])\n"
      ],
      "metadata": {
        "id": "JmUZr939iwDv"
      },
      "execution_count": null,
      "outputs": []
    },
    {
      "cell_type": "code",
      "source": [
        "print('Вывести строки с данными по Великобритании и Германии')\n",
        "print(pd.DataFrame(s_new, index=['GB', 'DE']) )\n"
      ],
      "metadata": {
        "id": "kKIAYFMGiytw"
      },
      "execution_count": null,
      "outputs": []
    },
    {
      "cell_type": "code",
      "source": [
        "print('Для Японии и Тайланда вывести две колонки с данными')\n",
        "print(pd.DataFrame(s_new, index= ['JP', 'TH'], columns= ['cars_per_1000', 'country']))"
      ],
      "metadata": {
        "id": "nQPOs1Hxi2gc"
      },
      "execution_count": null,
      "outputs": []
    },
    {
      "cell_type": "code",
      "source": [
        "s_new['CarP'] = np.array(car)/1000\n",
        "print(s_new)"
      ],
      "metadata": {
        "id": "ovs3nS7vlckQ"
      },
      "execution_count": null,
      "outputs": []
    },
    {
      "cell_type": "code",
      "source": [
        "plt.title('Количество автомобилей на одного жителя')\n",
        "#plt.pie(s_new.CarP, autopct = '%1.1f%%' )\n",
        "plt.pie(s_new.CarP, labels = s_new.CarP)"
      ],
      "metadata": {
        "id": "Cga55p1Gi9jY"
      },
      "execution_count": null,
      "outputs": []
    },
    {
      "cell_type": "code",
      "source": [],
      "metadata": {
        "id": "m84gR7X5sucS"
      },
      "execution_count": null,
      "outputs": []
    }
  ]
}
